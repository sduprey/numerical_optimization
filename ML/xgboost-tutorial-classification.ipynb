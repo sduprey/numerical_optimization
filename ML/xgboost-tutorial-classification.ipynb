{
 "cells": [
  {
   "cell_type": "markdown",
   "id": "b44b89c7",
   "metadata": {
    "papermill": {
     "duration": 0.007215,
     "end_time": "2022-07-05T02:58:52.771619",
     "exception": false,
     "start_time": "2022-07-05T02:58:52.764404",
     "status": "completed"
    },
    "tags": []
   },
   "source": [
    "<div class=\"alert alert-block alert-success\">\n",
    "    <h1 align=\"center\">Machine Learning in Python</h1>\n",
    "    <h3 align=\"center\">XGBoost</h3>\n",
    "    <h4 align=\"center\"><a href=\"http://www.iran-machinelearning.ir\">Soheil Tehranipour</a></h5>\n",
    "</div>"
   ]
  },
  {
   "cell_type": "markdown",
   "id": "1e8b7683",
   "metadata": {
    "papermill": {
     "duration": 0.005638,
     "end_time": "2022-07-05T02:58:52.783151",
     "exception": false,
     "start_time": "2022-07-05T02:58:52.777513",
     "status": "completed"
    },
    "tags": []
   },
   "source": [
    "<center><img src = \"https://upload.wikimedia.org/wikipedia/commons/thumb/6/69/XGBoost_logo.png/330px-XGBoost_logo.png\" width=40%><center>"
   ]
  },
  {
   "cell_type": "markdown",
   "id": "214a3b18",
   "metadata": {
    "papermill": {
     "duration": 0.005308,
     "end_time": "2022-07-05T02:58:52.794040",
     "exception": false,
     "start_time": "2022-07-05T02:58:52.788732",
     "status": "completed"
    },
    "tags": []
   },
   "source": [
    "# Topics:\n",
    "\n",
    "- [ ] What is XGBoost\n",
    "- [ ] XGBoost - How does it work?\n",
    "- [ ] Ensemble learning & Gradient Boosting\n",
    "- [ ] XGBoost in action"
   ]
  },
  {
   "cell_type": "markdown",
   "id": "5192194a",
   "metadata": {
    "papermill": {
     "duration": 0.005333,
     "end_time": "2022-07-05T02:58:52.804899",
     "exception": false,
     "start_time": "2022-07-05T02:58:52.799566",
     "status": "completed"
    },
    "tags": []
   },
   "source": [
    "## What is XGBoost?"
   ]
  },
  {
   "cell_type": "markdown",
   "id": "554dc970",
   "metadata": {
    "papermill": {
     "duration": 0.005335,
     "end_time": "2022-07-05T02:58:52.815857",
     "exception": false,
     "start_time": "2022-07-05T02:58:52.810522",
     "status": "completed"
    },
    "tags": []
   },
   "source": [
    "eXtreme Gradient Boosting (XGBoost) is a scalable and improved version of the gradient boosting algorithm (terminology alert) designed for efficacy, computational speed and model performance. It is an open-source library and a part of the Distributed Machine Learning Community. XGBoost is a perfect blend of software and hardware capabilities designed to enhance existing boosting techniques with accuracy in the shortest amount of time. "
   ]
  },
  {
   "cell_type": "markdown",
   "id": "8def6805",
   "metadata": {
    "papermill": {
     "duration": 0.005308,
     "end_time": "2022-07-05T02:58:52.826736",
     "exception": false,
     "start_time": "2022-07-05T02:58:52.821428",
     "status": "completed"
    },
    "tags": []
   },
   "source": [
    "What makes XGBoost a go-to algorithm for winning Machine Learning and Kaggle competitions?"
   ]
  },
  {
   "cell_type": "markdown",
   "id": "b6d68afd",
   "metadata": {
    "papermill": {
     "duration": 0.005236,
     "end_time": "2022-07-05T02:58:52.837587",
     "exception": false,
     "start_time": "2022-07-05T02:58:52.832351",
     "status": "completed"
    },
    "tags": []
   },
   "source": [
    "<center><img src = \"https://miro.medium.com/max/3280/1*1kjLMDQMufaQoS-nNJfg1Q.png\" width=80%></center>"
   ]
  },
  {
   "cell_type": "markdown",
   "id": "ed37fe9e",
   "metadata": {
    "papermill": {
     "duration": 0.005202,
     "end_time": "2022-07-05T02:58:52.848328",
     "exception": false,
     "start_time": "2022-07-05T02:58:52.843126",
     "status": "completed"
    },
    "tags": []
   },
   "source": [
    "* Built-in Cross-Validation"
   ]
  },
  {
   "cell_type": "markdown",
   "id": "14effa19",
   "metadata": {
    "papermill": {
     "duration": 0.005241,
     "end_time": "2022-07-05T02:58:52.859093",
     "exception": false,
     "start_time": "2022-07-05T02:58:52.853852",
     "status": "completed"
    },
    "tags": []
   },
   "source": [
    "<center><img src = \"https://miro.medium.com/max/450/1*Zyus69-ZT1OOmMGdULbYAA.gif\" width=50%></center>"
   ]
  },
  {
   "cell_type": "markdown",
   "id": "2ce3343a",
   "metadata": {
    "papermill": {
     "duration": 0.005247,
     "end_time": "2022-07-05T02:58:52.870510",
     "exception": false,
     "start_time": "2022-07-05T02:58:52.865263",
     "status": "completed"
    },
    "tags": []
   },
   "source": [
    "## XGBoost - How does it work?"
   ]
  },
  {
   "cell_type": "markdown",
   "id": "b712c22d",
   "metadata": {
    "papermill": {
     "duration": 0.005235,
     "end_time": "2022-07-05T02:58:52.881402",
     "exception": false,
     "start_time": "2022-07-05T02:58:52.876167",
     "status": "completed"
    },
    "tags": []
   },
   "source": [
    "**Ensemble learning** is a process in which decisions from multiple machine learning models are combined to reduce errors and improve prediction when compared to a Single ML model. Then the maximum voting technique is used on aggregated decisions (or predictions in machine learning jargon) to deduce the final prediction. Puzzled?\n",
    "\n",
    "Think of it as organizing efficient routes to your work/college/or grocery stores. As you can use multiple routes to reach your destination, you tend to learn the traffic and the delay it might cause to you at different times of the day, allowing you to devise a perfect route, Ensemble learning is alike!\n",
    "\n",
    "This image shows a clear distinction of a single ML model with respect to Ensemble Learner:"
   ]
  },
  {
   "cell_type": "markdown",
   "id": "80382631",
   "metadata": {
    "papermill": {
     "duration": 0.00526,
     "end_time": "2022-07-05T02:58:52.892401",
     "exception": false,
     "start_time": "2022-07-05T02:58:52.887141",
     "status": "completed"
    },
    "tags": []
   },
   "source": [
    "<center><img src = \"https://miro.medium.com/max/875/1*q-ZQz1EZeFCPr5ijx9nNdQ.png\" width=85%></center>"
   ]
  },
  {
   "cell_type": "markdown",
   "id": "704ee6f0",
   "metadata": {
    "papermill": {
     "duration": 0.005273,
     "end_time": "2022-07-05T02:58:52.903221",
     "exception": false,
     "start_time": "2022-07-05T02:58:52.897948",
     "status": "completed"
    },
    "tags": []
   },
   "source": [
    "<center><img src = \"https://miro.medium.com/max/1156/1*QJZ6W-Pck_W7RlIDwUIN9Q.jpeg\" width=80%></center>"
   ]
  },
  {
   "cell_type": "markdown",
   "id": "ef805186",
   "metadata": {
    "papermill": {
     "duration": 0.005174,
     "end_time": "2022-07-05T02:58:52.913896",
     "exception": false,
     "start_time": "2022-07-05T02:58:52.908722",
     "status": "completed"
    },
    "tags": []
   },
   "source": [
    "> Gradient boosting is a special case of boosting algorithm where errors are minimized by a gradient descent algorithm and produce a model in the form of weak prediction models e.g. decision trees."
   ]
  },
  {
   "cell_type": "markdown",
   "id": "2da96146",
   "metadata": {
    "papermill": {
     "duration": 0.005991,
     "end_time": "2022-07-05T02:58:52.925384",
     "exception": false,
     "start_time": "2022-07-05T02:58:52.919393",
     "status": "completed"
    },
    "tags": []
   },
   "source": [
    "<center><img src = \"https://lh4.googleusercontent.com/sw-wyEax5F_9Jv3MU-xXRARFqS2_OxloyMI7T4mYUxUQl3c7eSaSoqF3amY4MhpC_xamIKO-izi_6guyK_j-jwB60HtdgR5rFBoYiPHkk3OrAxKTB355bDH5dkOBqBDNLsJrOHF6xbXjkz72Sw\" width=75%></center>"
   ]
  },
  {
   "cell_type": "markdown",
   "id": "153cfd90",
   "metadata": {
    "papermill": {
     "duration": 0.006856,
     "end_time": "2022-07-05T02:58:52.940838",
     "exception": false,
     "start_time": "2022-07-05T02:58:52.933982",
     "status": "completed"
    },
    "tags": []
   },
   "source": [
    "## XGBoost (Example)"
   ]
  },
  {
   "cell_type": "markdown",
   "id": "0c8e5f2b",
   "metadata": {
    "papermill": {
     "duration": 0.006076,
     "end_time": "2022-07-05T02:58:52.952793",
     "exception": false,
     "start_time": "2022-07-05T02:58:52.946717",
     "status": "completed"
    },
    "tags": []
   },
   "source": [
    "<center><img src = \"https://au.hudson.com/wp-content/cache/bb-plugin/cache/unuasual-job-interview-01-1024x731-landscape.jpg\" width=75%></center>"
   ]
  },
  {
   "cell_type": "markdown",
   "id": "1a05bc92",
   "metadata": {
    "papermill": {
     "duration": 0.006536,
     "end_time": "2022-07-05T02:58:52.965224",
     "exception": false,
     "start_time": "2022-07-05T02:58:52.958688",
     "status": "completed"
    },
    "tags": []
   },
   "source": [
    "Imagine that you are a hiring manager interviewing several candidates with excellent qualifications. Each step of the evolution of tree-based algorithms can be viewed as a version of the interview process.\n",
    "\n",
    "1. Decision Tree: Every hiring manager has a set of criteria such as education level, number of years of experience, interview performance. A decision tree is analogous to a hiring manager interviewing candidates based on his or her own criteria.\n",
    "\n",
    "2. Bagging: Now imagine instead of a single interviewer, now there is an interview panel where each interviewer has a vote. Bagging or bootstrap aggregating involves combining inputs from all interviewers for the final decision through a democratic voting process.\n",
    "\n",
    "3. Random Forest: It is a bagging-based algorithm with a key difference wherein only a subset of features is selected at random. In other words, every interviewer will only test the interviewee on certain randomly selected qualifications (e.g. a technical interview for testing programming skills and a behavioral interview for evaluating non-technical skills).\n",
    "    \n",
    "4. Boosting: This is an alternative approach where each interviewer alters the evaluation criteria based on feedback from the previous interviewer. This ‘boosts’ the efficiency of the interview process by deploying a more dynamic evaluation process.\n",
    "    \n",
    "5. Gradient Boosting: A special case of boosting where errors are minimized by gradient descent algorithm e.g. the strategy consulting firms leverage by using case interviews to weed out less qualified candidates.\n",
    "    \n",
    "    \n",
    "6. XGBoost: Think of XGBoost as gradient boosting on ‘steroids’ (well it is called ‘Extreme Gradient Boosting’ for a reason!). It is a perfect combination of software and hardware optimization techniques to yield superior results using less computing resources in the shortest amount of time."
   ]
  },
  {
   "cell_type": "markdown",
   "id": "5e237ed2",
   "metadata": {
    "papermill": {
     "duration": 0.009118,
     "end_time": "2022-07-05T02:58:52.981278",
     "exception": false,
     "start_time": "2022-07-05T02:58:52.972160",
     "status": "completed"
    },
    "tags": []
   },
   "source": [
    "<center><img src = \"https://miro.medium.com/max/1200/1*U72CpSTnJ-XTjCisJqCqLg.jpeg\" width=85%></center>"
   ]
  },
  {
   "cell_type": "markdown",
   "id": "3183ccf5",
   "metadata": {
    "papermill": {
     "duration": 0.005243,
     "end_time": "2022-07-05T02:58:52.993250",
     "exception": false,
     "start_time": "2022-07-05T02:58:52.988007",
     "status": "completed"
    },
    "tags": []
   },
   "source": [
    "# XGBoost in Action"
   ]
  },
  {
   "cell_type": "markdown",
   "id": "e51115a8",
   "metadata": {
    "papermill": {
     "duration": 0.005814,
     "end_time": "2022-07-05T02:58:53.005399",
     "exception": false,
     "start_time": "2022-07-05T02:58:52.999585",
     "status": "completed"
    },
    "tags": []
   },
   "source": [
    "## Importing the libraries"
   ]
  },
  {
   "cell_type": "code",
   "execution_count": 1,
   "id": "7b325ed7",
   "metadata": {
    "execution": {
     "iopub.execute_input": "2022-07-05T02:58:53.026353Z",
     "iopub.status.busy": "2022-07-05T02:58:53.024896Z",
     "iopub.status.idle": "2022-07-05T02:58:53.031015Z",
     "shell.execute_reply": "2022-07-05T02:58:53.030234Z"
    },
    "papermill": {
     "duration": 0.021033,
     "end_time": "2022-07-05T02:58:53.033114",
     "exception": false,
     "start_time": "2022-07-05T02:58:53.012081",
     "status": "completed"
    },
    "tags": []
   },
   "outputs": [],
   "source": [
    "# make sure you have installed xgboost at first\n",
    "#!pip install xgboost\n"
   ]
  },
  {
   "cell_type": "code",
   "execution_count": 1,
   "id": "52eb9f34",
   "metadata": {
    "execution": {
     "iopub.execute_input": "2022-07-05T02:58:53.045851Z",
     "iopub.status.busy": "2022-07-05T02:58:53.045491Z",
     "iopub.status.idle": "2022-07-05T02:58:54.435663Z",
     "shell.execute_reply": "2022-07-05T02:58:54.434577Z"
    },
    "papermill": {
     "duration": 1.399713,
     "end_time": "2022-07-05T02:58:54.438403",
     "exception": false,
     "start_time": "2022-07-05T02:58:53.038690",
     "status": "completed"
    },
    "tags": []
   },
   "outputs": [],
   "source": [
    "%matplotlib inline\n",
    "import numpy as np\n",
    "import pandas as pd\n",
    "import matplotlib.pyplot as plt\n",
    "import seaborn as sns\n",
    "import sklearn\n",
    "\n",
    "import xgboost as xgb"
   ]
  },
  {
   "cell_type": "markdown",
   "id": "29d9cc35",
   "metadata": {
    "papermill": {
     "duration": 0.005244,
     "end_time": "2022-07-05T02:58:54.449273",
     "exception": false,
     "start_time": "2022-07-05T02:58:54.444029",
     "status": "completed"
    },
    "tags": []
   },
   "source": [
    "## Load and Prepare Data"
   ]
  },
  {
   "cell_type": "code",
   "execution_count": 3,
   "id": "c32ab0a2",
   "metadata": {
    "execution": {
     "iopub.execute_input": "2022-07-05T02:58:54.461642Z",
     "iopub.status.busy": "2022-07-05T02:58:54.461276Z",
     "iopub.status.idle": "2022-07-05T02:58:54.466119Z",
     "shell.execute_reply": "2022-07-05T02:58:54.465103Z"
    },
    "papermill": {
     "duration": 0.013492,
     "end_time": "2022-07-05T02:58:54.468089",
     "exception": false,
     "start_time": "2022-07-05T02:58:54.454597",
     "status": "completed"
    },
    "tags": []
   },
   "outputs": [],
   "source": [
    "from xgboost import XGBClassifier\n",
    "from sklearn.model_selection import train_test_split\n",
    "from sklearn.metrics import accuracy_score"
   ]
  },
  {
   "cell_type": "code",
   "execution_count": 2,
   "id": "fb2ae839",
   "metadata": {
    "execution": {
     "iopub.execute_input": "2022-07-05T02:58:54.480806Z",
     "iopub.status.busy": "2022-07-05T02:58:54.480190Z",
     "iopub.status.idle": "2022-07-05T02:58:54.499888Z",
     "shell.execute_reply": "2022-07-05T02:58:54.499012Z"
    },
    "papermill": {
     "duration": 0.028552,
     "end_time": "2022-07-05T02:58:54.502079",
     "exception": false,
     "start_time": "2022-07-05T02:58:54.473527",
     "status": "completed"
    },
    "scrolled": true,
    "tags": []
   },
   "outputs": [],
   "source": [
    "# load data\n",
    "df = pd.read_csv('./datasets_228_482_diabetes.csv')"
   ]
  },
  {
   "cell_type": "code",
   "execution_count": 3,
   "id": "1de74425",
   "metadata": {
    "execution": {
     "iopub.execute_input": "2022-07-05T02:58:54.515264Z",
     "iopub.status.busy": "2022-07-05T02:58:54.514631Z",
     "iopub.status.idle": "2022-07-05T02:58:54.539820Z",
     "shell.execute_reply": "2022-07-05T02:58:54.539002Z"
    },
    "papermill": {
     "duration": 0.034234,
     "end_time": "2022-07-05T02:58:54.541823",
     "exception": false,
     "start_time": "2022-07-05T02:58:54.507589",
     "status": "completed"
    },
    "tags": []
   },
   "outputs": [
    {
     "data": {
      "text/html": [
       "<div>\n",
       "<style scoped>\n",
       "    .dataframe tbody tr th:only-of-type {\n",
       "        vertical-align: middle;\n",
       "    }\n",
       "\n",
       "    .dataframe tbody tr th {\n",
       "        vertical-align: top;\n",
       "    }\n",
       "\n",
       "    .dataframe thead th {\n",
       "        text-align: right;\n",
       "    }\n",
       "</style>\n",
       "<table border=\"1\" class=\"dataframe\">\n",
       "  <thead>\n",
       "    <tr style=\"text-align: right;\">\n",
       "      <th></th>\n",
       "      <th>Pregnancies</th>\n",
       "      <th>Glucose</th>\n",
       "      <th>BloodPressure</th>\n",
       "      <th>SkinThickness</th>\n",
       "      <th>Insulin</th>\n",
       "      <th>BMI</th>\n",
       "      <th>DiabetesPedigreeFunction</th>\n",
       "      <th>Age</th>\n",
       "      <th>Outcome</th>\n",
       "    </tr>\n",
       "  </thead>\n",
       "  <tbody>\n",
       "    <tr>\n",
       "      <th>0</th>\n",
       "      <td>6</td>\n",
       "      <td>148</td>\n",
       "      <td>72</td>\n",
       "      <td>35</td>\n",
       "      <td>0</td>\n",
       "      <td>33.6</td>\n",
       "      <td>0.627</td>\n",
       "      <td>50</td>\n",
       "      <td>1</td>\n",
       "    </tr>\n",
       "    <tr>\n",
       "      <th>1</th>\n",
       "      <td>1</td>\n",
       "      <td>85</td>\n",
       "      <td>66</td>\n",
       "      <td>29</td>\n",
       "      <td>0</td>\n",
       "      <td>26.6</td>\n",
       "      <td>0.351</td>\n",
       "      <td>31</td>\n",
       "      <td>0</td>\n",
       "    </tr>\n",
       "    <tr>\n",
       "      <th>2</th>\n",
       "      <td>8</td>\n",
       "      <td>183</td>\n",
       "      <td>64</td>\n",
       "      <td>0</td>\n",
       "      <td>0</td>\n",
       "      <td>23.3</td>\n",
       "      <td>0.672</td>\n",
       "      <td>32</td>\n",
       "      <td>1</td>\n",
       "    </tr>\n",
       "    <tr>\n",
       "      <th>3</th>\n",
       "      <td>1</td>\n",
       "      <td>89</td>\n",
       "      <td>66</td>\n",
       "      <td>23</td>\n",
       "      <td>94</td>\n",
       "      <td>28.1</td>\n",
       "      <td>0.167</td>\n",
       "      <td>21</td>\n",
       "      <td>0</td>\n",
       "    </tr>\n",
       "    <tr>\n",
       "      <th>4</th>\n",
       "      <td>0</td>\n",
       "      <td>137</td>\n",
       "      <td>40</td>\n",
       "      <td>35</td>\n",
       "      <td>168</td>\n",
       "      <td>43.1</td>\n",
       "      <td>2.288</td>\n",
       "      <td>33</td>\n",
       "      <td>1</td>\n",
       "    </tr>\n",
       "    <tr>\n",
       "      <th>...</th>\n",
       "      <td>...</td>\n",
       "      <td>...</td>\n",
       "      <td>...</td>\n",
       "      <td>...</td>\n",
       "      <td>...</td>\n",
       "      <td>...</td>\n",
       "      <td>...</td>\n",
       "      <td>...</td>\n",
       "      <td>...</td>\n",
       "    </tr>\n",
       "    <tr>\n",
       "      <th>763</th>\n",
       "      <td>10</td>\n",
       "      <td>101</td>\n",
       "      <td>76</td>\n",
       "      <td>48</td>\n",
       "      <td>180</td>\n",
       "      <td>32.9</td>\n",
       "      <td>0.171</td>\n",
       "      <td>63</td>\n",
       "      <td>0</td>\n",
       "    </tr>\n",
       "    <tr>\n",
       "      <th>764</th>\n",
       "      <td>2</td>\n",
       "      <td>122</td>\n",
       "      <td>70</td>\n",
       "      <td>27</td>\n",
       "      <td>0</td>\n",
       "      <td>36.8</td>\n",
       "      <td>0.340</td>\n",
       "      <td>27</td>\n",
       "      <td>0</td>\n",
       "    </tr>\n",
       "    <tr>\n",
       "      <th>765</th>\n",
       "      <td>5</td>\n",
       "      <td>121</td>\n",
       "      <td>72</td>\n",
       "      <td>23</td>\n",
       "      <td>112</td>\n",
       "      <td>26.2</td>\n",
       "      <td>0.245</td>\n",
       "      <td>30</td>\n",
       "      <td>0</td>\n",
       "    </tr>\n",
       "    <tr>\n",
       "      <th>766</th>\n",
       "      <td>1</td>\n",
       "      <td>126</td>\n",
       "      <td>60</td>\n",
       "      <td>0</td>\n",
       "      <td>0</td>\n",
       "      <td>30.1</td>\n",
       "      <td>0.349</td>\n",
       "      <td>47</td>\n",
       "      <td>1</td>\n",
       "    </tr>\n",
       "    <tr>\n",
       "      <th>767</th>\n",
       "      <td>1</td>\n",
       "      <td>93</td>\n",
       "      <td>70</td>\n",
       "      <td>31</td>\n",
       "      <td>0</td>\n",
       "      <td>30.4</td>\n",
       "      <td>0.315</td>\n",
       "      <td>23</td>\n",
       "      <td>0</td>\n",
       "    </tr>\n",
       "  </tbody>\n",
       "</table>\n",
       "<p>768 rows × 9 columns</p>\n",
       "</div>"
      ],
      "text/plain": [
       "     Pregnancies  Glucose  BloodPressure  SkinThickness  Insulin   BMI  \\\n",
       "0              6      148             72             35        0  33.6   \n",
       "1              1       85             66             29        0  26.6   \n",
       "2              8      183             64              0        0  23.3   \n",
       "3              1       89             66             23       94  28.1   \n",
       "4              0      137             40             35      168  43.1   \n",
       "..           ...      ...            ...            ...      ...   ...   \n",
       "763           10      101             76             48      180  32.9   \n",
       "764            2      122             70             27        0  36.8   \n",
       "765            5      121             72             23      112  26.2   \n",
       "766            1      126             60              0        0  30.1   \n",
       "767            1       93             70             31        0  30.4   \n",
       "\n",
       "     DiabetesPedigreeFunction  Age  Outcome  \n",
       "0                       0.627   50        1  \n",
       "1                       0.351   31        0  \n",
       "2                       0.672   32        1  \n",
       "3                       0.167   21        0  \n",
       "4                       2.288   33        1  \n",
       "..                        ...  ...      ...  \n",
       "763                     0.171   63        0  \n",
       "764                     0.340   27        0  \n",
       "765                     0.245   30        0  \n",
       "766                     0.349   47        1  \n",
       "767                     0.315   23        0  \n",
       "\n",
       "[768 rows x 9 columns]"
      ]
     },
     "execution_count": 3,
     "metadata": {},
     "output_type": "execute_result"
    }
   ],
   "source": [
    "df"
   ]
  },
  {
   "cell_type": "code",
   "execution_count": 4,
   "id": "7560fa54",
   "metadata": {
    "execution": {
     "iopub.execute_input": "2022-07-05T02:58:54.555548Z",
     "iopub.status.busy": "2022-07-05T02:58:54.554945Z",
     "iopub.status.idle": "2022-07-05T02:58:54.559703Z",
     "shell.execute_reply": "2022-07-05T02:58:54.558996Z"
    },
    "papermill": {
     "duration": 0.013582,
     "end_time": "2022-07-05T02:58:54.561601",
     "exception": false,
     "start_time": "2022-07-05T02:58:54.548019",
     "status": "completed"
    },
    "tags": []
   },
   "outputs": [],
   "source": [
    "# split data into X and y\n",
    "X = df.iloc[:,:-1].values\n",
    "y = df.iloc[:,-1].values"
   ]
  },
  {
   "cell_type": "code",
   "execution_count": 5,
   "id": "465f3fbb",
   "metadata": {
    "execution": {
     "iopub.execute_input": "2022-07-05T02:58:54.575470Z",
     "iopub.status.busy": "2022-07-05T02:58:54.574834Z",
     "iopub.status.idle": "2022-07-05T02:58:54.579372Z",
     "shell.execute_reply": "2022-07-05T02:58:54.578651Z"
    },
    "papermill": {
     "duration": 0.013588,
     "end_time": "2022-07-05T02:58:54.581240",
     "exception": false,
     "start_time": "2022-07-05T02:58:54.567652",
     "status": "completed"
    },
    "tags": []
   },
   "outputs": [],
   "source": [
    "from sklearn.model_selection import train_test_split # to split the dataset for training and testing \n",
    "X_train, X_test, y_train, y_test = train_test_split(X, y, test_size = 0.20)"
   ]
  },
  {
   "cell_type": "code",
   "execution_count": 6,
   "id": "cf2fa6ae",
   "metadata": {
    "execution": {
     "iopub.execute_input": "2022-07-05T02:58:54.595108Z",
     "iopub.status.busy": "2022-07-05T02:58:54.594447Z",
     "iopub.status.idle": "2022-07-05T02:58:54.600565Z",
     "shell.execute_reply": "2022-07-05T02:58:54.599795Z"
    },
    "papermill": {
     "duration": 0.015316,
     "end_time": "2022-07-05T02:58:54.602628",
     "exception": false,
     "start_time": "2022-07-05T02:58:54.587312",
     "status": "completed"
    },
    "tags": []
   },
   "outputs": [
    {
     "name": "stdout",
     "output_type": "stream",
     "text": [
      "(614, 8)\n",
      "(614,)\n",
      "(154, 8)\n",
      "(154,)\n"
     ]
    }
   ],
   "source": [
    "X_train, X_test, y_train, y_test = train_test_split(X, y, test_size=0.2, random_state=5)\n",
    "print(X_train.shape)\n",
    "print(y_train.shape)\n",
    "print(X_test.shape)\n",
    "print(y_test.shape)"
   ]
  },
  {
   "cell_type": "code",
   "execution_count": 10,
   "id": "5f1feb05",
   "metadata": {
    "execution": {
     "iopub.execute_input": "2022-07-05T02:58:54.616550Z",
     "iopub.status.busy": "2022-07-05T02:58:54.615856Z",
     "iopub.status.idle": "2022-07-05T02:58:55.059994Z",
     "shell.execute_reply": "2022-07-05T02:58:55.059259Z"
    },
    "papermill": {
     "duration": 0.453203,
     "end_time": "2022-07-05T02:58:55.061864",
     "exception": false,
     "start_time": "2022-07-05T02:58:54.608661",
     "status": "completed"
    },
    "tags": []
   },
   "outputs": [
    {
     "data": {
      "text/html": [
       "<style>#sk-container-id-1 {color: black;}#sk-container-id-1 pre{padding: 0;}#sk-container-id-1 div.sk-toggleable {background-color: white;}#sk-container-id-1 label.sk-toggleable__label {cursor: pointer;display: block;width: 100%;margin-bottom: 0;padding: 0.3em;box-sizing: border-box;text-align: center;}#sk-container-id-1 label.sk-toggleable__label-arrow:before {content: \"▸\";float: left;margin-right: 0.25em;color: #696969;}#sk-container-id-1 label.sk-toggleable__label-arrow:hover:before {color: black;}#sk-container-id-1 div.sk-estimator:hover label.sk-toggleable__label-arrow:before {color: black;}#sk-container-id-1 div.sk-toggleable__content {max-height: 0;max-width: 0;overflow: hidden;text-align: left;background-color: #f0f8ff;}#sk-container-id-1 div.sk-toggleable__content pre {margin: 0.2em;color: black;border-radius: 0.25em;background-color: #f0f8ff;}#sk-container-id-1 input.sk-toggleable__control:checked~div.sk-toggleable__content {max-height: 200px;max-width: 100%;overflow: auto;}#sk-container-id-1 input.sk-toggleable__control:checked~label.sk-toggleable__label-arrow:before {content: \"▾\";}#sk-container-id-1 div.sk-estimator input.sk-toggleable__control:checked~label.sk-toggleable__label {background-color: #d4ebff;}#sk-container-id-1 div.sk-label input.sk-toggleable__control:checked~label.sk-toggleable__label {background-color: #d4ebff;}#sk-container-id-1 input.sk-hidden--visually {border: 0;clip: rect(1px 1px 1px 1px);clip: rect(1px, 1px, 1px, 1px);height: 1px;margin: -1px;overflow: hidden;padding: 0;position: absolute;width: 1px;}#sk-container-id-1 div.sk-estimator {font-family: monospace;background-color: #f0f8ff;border: 1px dotted black;border-radius: 0.25em;box-sizing: border-box;margin-bottom: 0.5em;}#sk-container-id-1 div.sk-estimator:hover {background-color: #d4ebff;}#sk-container-id-1 div.sk-parallel-item::after {content: \"\";width: 100%;border-bottom: 1px solid gray;flex-grow: 1;}#sk-container-id-1 div.sk-label:hover label.sk-toggleable__label {background-color: #d4ebff;}#sk-container-id-1 div.sk-serial::before {content: \"\";position: absolute;border-left: 1px solid gray;box-sizing: border-box;top: 0;bottom: 0;left: 50%;z-index: 0;}#sk-container-id-1 div.sk-serial {display: flex;flex-direction: column;align-items: center;background-color: white;padding-right: 0.2em;padding-left: 0.2em;position: relative;}#sk-container-id-1 div.sk-item {position: relative;z-index: 1;}#sk-container-id-1 div.sk-parallel {display: flex;align-items: stretch;justify-content: center;background-color: white;position: relative;}#sk-container-id-1 div.sk-item::before, #sk-container-id-1 div.sk-parallel-item::before {content: \"\";position: absolute;border-left: 1px solid gray;box-sizing: border-box;top: 0;bottom: 0;left: 50%;z-index: -1;}#sk-container-id-1 div.sk-parallel-item {display: flex;flex-direction: column;z-index: 1;position: relative;background-color: white;}#sk-container-id-1 div.sk-parallel-item:first-child::after {align-self: flex-end;width: 50%;}#sk-container-id-1 div.sk-parallel-item:last-child::after {align-self: flex-start;width: 50%;}#sk-container-id-1 div.sk-parallel-item:only-child::after {width: 0;}#sk-container-id-1 div.sk-dashed-wrapped {border: 1px dashed gray;margin: 0 0.4em 0.5em 0.4em;box-sizing: border-box;padding-bottom: 0.4em;background-color: white;}#sk-container-id-1 div.sk-label label {font-family: monospace;font-weight: bold;display: inline-block;line-height: 1.2em;}#sk-container-id-1 div.sk-label-container {text-align: center;}#sk-container-id-1 div.sk-container {/* jupyter's `normalize.less` sets `[hidden] { display: none; }` but bootstrap.min.css set `[hidden] { display: none !important; }` so we also need the `!important` here to be able to override the default hidden behavior on the sphinx rendered scikit-learn.org. See: https://github.com/scikit-learn/scikit-learn/issues/21755 */display: inline-block !important;position: relative;}#sk-container-id-1 div.sk-text-repr-fallback {display: none;}</style><div id=\"sk-container-id-1\" class=\"sk-top-container\"><div class=\"sk-text-repr-fallback\"><pre>XGBClassifier(base_score=None, booster=None, callbacks=None,\n",
       "              colsample_bylevel=None, colsample_bynode=None,\n",
       "              colsample_bytree=None, device=None, early_stopping_rounds=None,\n",
       "              enable_categorical=False, eval_metric=None, feature_types=None,\n",
       "              gamma=None, grow_policy=None, importance_type=None,\n",
       "              interaction_constraints=None, learning_rate=None, max_bin=None,\n",
       "              max_cat_threshold=None, max_cat_to_onehot=None,\n",
       "              max_delta_step=None, max_depth=None, max_leaves=None,\n",
       "              min_child_weight=None, missing=nan, monotone_constraints=None,\n",
       "              multi_strategy=None, n_estimators=None, n_jobs=None,\n",
       "              num_parallel_tree=None, random_state=None, ...)</pre><b>In a Jupyter environment, please rerun this cell to show the HTML representation or trust the notebook. <br />On GitHub, the HTML representation is unable to render, please try loading this page with nbviewer.org.</b></div><div class=\"sk-container\" hidden><div class=\"sk-item\"><div class=\"sk-estimator sk-toggleable\"><input class=\"sk-toggleable__control sk-hidden--visually\" id=\"sk-estimator-id-1\" type=\"checkbox\" checked><label for=\"sk-estimator-id-1\" class=\"sk-toggleable__label sk-toggleable__label-arrow\">XGBClassifier</label><div class=\"sk-toggleable__content\"><pre>XGBClassifier(base_score=None, booster=None, callbacks=None,\n",
       "              colsample_bylevel=None, colsample_bynode=None,\n",
       "              colsample_bytree=None, device=None, early_stopping_rounds=None,\n",
       "              enable_categorical=False, eval_metric=None, feature_types=None,\n",
       "              gamma=None, grow_policy=None, importance_type=None,\n",
       "              interaction_constraints=None, learning_rate=None, max_bin=None,\n",
       "              max_cat_threshold=None, max_cat_to_onehot=None,\n",
       "              max_delta_step=None, max_depth=None, max_leaves=None,\n",
       "              min_child_weight=None, missing=nan, monotone_constraints=None,\n",
       "              multi_strategy=None, n_estimators=None, n_jobs=None,\n",
       "              num_parallel_tree=None, random_state=None, ...)</pre></div></div></div></div></div>"
      ],
      "text/plain": [
       "XGBClassifier(base_score=None, booster=None, callbacks=None,\n",
       "              colsample_bylevel=None, colsample_bynode=None,\n",
       "              colsample_bytree=None, device=None, early_stopping_rounds=None,\n",
       "              enable_categorical=False, eval_metric=None, feature_types=None,\n",
       "              gamma=None, grow_policy=None, importance_type=None,\n",
       "              interaction_constraints=None, learning_rate=None, max_bin=None,\n",
       "              max_cat_threshold=None, max_cat_to_onehot=None,\n",
       "              max_delta_step=None, max_depth=None, max_leaves=None,\n",
       "              min_child_weight=None, missing=nan, monotone_constraints=None,\n",
       "              multi_strategy=None, n_estimators=None, n_jobs=None,\n",
       "              num_parallel_tree=None, random_state=None, ...)"
      ]
     },
     "execution_count": 10,
     "metadata": {},
     "output_type": "execute_result"
    }
   ],
   "source": [
    "# fit model no training data\n",
    "model = xgb.XGBClassifier()\n",
    "model.fit(X_train, y_train)"
   ]
  },
  {
   "cell_type": "code",
   "execution_count": 11,
   "id": "9da5a2bc",
   "metadata": {
    "execution": {
     "iopub.execute_input": "2022-07-05T02:58:55.076248Z",
     "iopub.status.busy": "2022-07-05T02:58:55.075496Z",
     "iopub.status.idle": "2022-07-05T02:58:55.083115Z",
     "shell.execute_reply": "2022-07-05T02:58:55.082332Z"
    },
    "papermill": {
     "duration": 0.017158,
     "end_time": "2022-07-05T02:58:55.085411",
     "exception": false,
     "start_time": "2022-07-05T02:58:55.068253",
     "status": "completed"
    },
    "tags": []
   },
   "outputs": [],
   "source": [
    "y_pred = model.predict(X_test)"
   ]
  },
  {
   "cell_type": "code",
   "execution_count": 13,
   "id": "b9cabf1d",
   "metadata": {
    "execution": {
     "iopub.execute_input": "2022-07-05T02:58:55.099503Z",
     "iopub.status.busy": "2022-07-05T02:58:55.099073Z",
     "iopub.status.idle": "2022-07-05T02:58:55.105110Z",
     "shell.execute_reply": "2022-07-05T02:58:55.104241Z"
    },
    "papermill": {
     "duration": 0.016091,
     "end_time": "2022-07-05T02:58:55.107972",
     "exception": false,
     "start_time": "2022-07-05T02:58:55.091881",
     "status": "completed"
    },
    "tags": []
   },
   "outputs": [
    {
     "name": "stdout",
     "output_type": "stream",
     "text": [
      "Accuracy of the Logistic Regression Model:  75.32467532467533\n"
     ]
    }
   ],
   "source": [
    "from sklearn.metrics import accuracy_score\n",
    "accuracy = accuracy_score(y_test, y_pred) * 100\n",
    "print(\"Accuracy of the Logistic Regression Model: \",accuracy)"
   ]
  },
  {
   "cell_type": "markdown",
   "id": "4171127e",
   "metadata": {
    "papermill": {
     "duration": 0.006085,
     "end_time": "2022-07-05T02:58:55.120880",
     "exception": false,
     "start_time": "2022-07-05T02:58:55.114795",
     "status": "completed"
    },
    "tags": []
   },
   "source": [
    "let’s look at the overview of the most frequently tuned **hyperparameters**:\n",
    "\n",
    "1. learning_rate: also called eta, it specifies how quickly the model fits the residual errors by using additional base learners.\n",
    "\n",
    "    typical values: 0.01–0.2\n",
    "    \n",
    "\n",
    "2. gamma, reg_alpha, reg_lambda: these 3 parameters specify the values for 3 types of regularization done by XGBoost - minimum loss reduction to create a new split, L1 reg on leaf weights, L2 reg leaf weights respectively\n",
    "\n",
    "    typical values for gamma: 0 - 0.5 but highly dependent on the data\n",
    "    typical values for reg_alpha and reg_lambda: 0 - 1 is a good starting point but again, depends on the data\n",
    "    \n",
    "\n",
    "3. max_depth - how deep the tree's decision nodes can go. Must be a positive integer\n",
    "\n",
    "    typical values: 1–10\n",
    "    \n",
    "\n",
    "4. subsample - fraction of the training set that can be used to train each tree. If this value is low, it may lead to underfitting or if it is too high, it may lead to overfitting\n",
    "\n",
    "    typical values: 0.5–0.9\n",
    "    \n",
    "\n",
    "5. colsample_bytree- fraction of the features that can be used to train each tree. A large value means almost all features can be used to build the decision tree\n",
    "\n",
    "    typical values: 0.5–0.9\n",
    "    \n",
    "\n",
    "**The above are the main hyperparameters people often tune.**"
   ]
  },
  {
   "cell_type": "code",
   "execution_count": null,
   "id": "f5cdee14",
   "metadata": {},
   "outputs": [],
   "source": []
  }
 ],
 "metadata": {
  "kernelspec": {
   "display_name": "Python 3 (ipykernel)",
   "language": "python",
   "name": "python3"
  },
  "language_info": {
   "codemirror_mode": {
    "name": "ipython",
    "version": 3
   },
   "file_extension": ".py",
   "mimetype": "text/x-python",
   "name": "python",
   "nbconvert_exporter": "python",
   "pygments_lexer": "ipython3",
   "version": "3.11.5"
  },
  "papermill": {
   "default_parameters": {},
   "duration": 11.721626,
   "end_time": "2022-07-05T02:58:55.847716",
   "environment_variables": {},
   "exception": null,
   "input_path": "__notebook__.ipynb",
   "output_path": "__notebook__.ipynb",
   "parameters": {},
   "start_time": "2022-07-05T02:58:44.126090",
   "version": "2.3.4"
  }
 },
 "nbformat": 4,
 "nbformat_minor": 5
}
